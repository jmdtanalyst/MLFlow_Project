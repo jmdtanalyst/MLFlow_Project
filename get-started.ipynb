{
 "cells": [
  {
   "cell_type": "markdown",
   "metadata": {},
   "source": [
    "## MLFlow Tracking Server\n",
    "\n",
    "In order to start the MLflow tracking server,  go to the folder via cmd or powershell, and type:  mlflow ui"
   ]
  },
  {
   "cell_type": "code",
   "execution_count": 1,
   "metadata": {},
   "outputs": [],
   "source": [
    "import mlflow\n",
    "\n"
   ]
  },
  {
   "cell_type": "code",
   "execution_count": 3,
   "metadata": {},
   "outputs": [
    {
     "name": "stderr",
     "output_type": "stream",
     "text": [
      "2024/10/22 19:12:21 INFO mlflow.tracking.fluent: Experiment with name 'Check Connection 1' does not exist. Creating a new experiment.\n"
     ]
    },
    {
     "data": {
      "text/plain": [
       "<Experiment: artifact_location='mlflow-artifacts:/258775168737052725', creation_time=1729620741426, experiment_id='258775168737052725', last_update_time=1729620741426, lifecycle_stage='active', name='Check Connection 1', tags={}>"
      ]
     },
     "execution_count": 3,
     "metadata": {},
     "output_type": "execute_result"
    }
   ],
   "source": [
    "mlflow.set_tracking_uri(\"http://localhost:5000\")\n",
    "mlflow.set_experiment('Check Connection 1')\n"
   ]
  },
  {
   "cell_type": "code",
   "execution_count": 4,
   "metadata": {},
   "outputs": [
    {
     "name": "stderr",
     "output_type": "stream",
     "text": [
      "2024/10/22 19:12:25 INFO mlflow.tracking._tracking_service.client: 🏃 View run clumsy-sponge-760 at: http://localhost:5000/#/experiments/258775168737052725/runs/73d1b98a92cc4758821e7e5cb17a98cc.\n",
      "2024/10/22 19:12:25 INFO mlflow.tracking._tracking_service.client: 🧪 View experiment at: http://localhost:5000/#/experiments/258775168737052725.\n",
      "2024/10/22 19:12:25 INFO mlflow.tracking._tracking_service.client: 🏃 View run kindly-mole-440 at: http://localhost:5000/#/experiments/258775168737052725/runs/e1e56315bc934e2fa1e11d25a4e920d2.\n",
      "2024/10/22 19:12:25 INFO mlflow.tracking._tracking_service.client: 🧪 View experiment at: http://localhost:5000/#/experiments/258775168737052725.\n",
      "2024/10/22 19:12:25 INFO mlflow.tracking._tracking_service.client: 🏃 View run likeable-cub-249 at: http://localhost:5000/#/experiments/258775168737052725/runs/2850ce79a1af4c82bfd5b67ab5c15ff9.\n",
      "2024/10/22 19:12:25 INFO mlflow.tracking._tracking_service.client: 🧪 View experiment at: http://localhost:5000/#/experiments/258775168737052725.\n",
      "2024/10/22 19:12:25 INFO mlflow.tracking._tracking_service.client: 🏃 View run gentle-foal-485 at: http://localhost:5000/#/experiments/258775168737052725/runs/fc4cc96858e04a0ebd3f248c28732033.\n",
      "2024/10/22 19:12:25 INFO mlflow.tracking._tracking_service.client: 🧪 View experiment at: http://localhost:5000/#/experiments/258775168737052725.\n",
      "2024/10/22 19:12:25 INFO mlflow.tracking._tracking_service.client: 🏃 View run beautiful-bug-783 at: http://localhost:5000/#/experiments/258775168737052725/runs/655e31af752341baaaf89f216ad2185a.\n",
      "2024/10/22 19:12:25 INFO mlflow.tracking._tracking_service.client: 🧪 View experiment at: http://localhost:5000/#/experiments/258775168737052725.\n",
      "2024/10/22 19:12:25 INFO mlflow.tracking._tracking_service.client: 🏃 View run unleashed-calf-616 at: http://localhost:5000/#/experiments/258775168737052725/runs/ad7776a16cae4b519ea51eb48f1c681c.\n",
      "2024/10/22 19:12:25 INFO mlflow.tracking._tracking_service.client: 🧪 View experiment at: http://localhost:5000/#/experiments/258775168737052725.\n",
      "2024/10/22 19:12:25 INFO mlflow.tracking._tracking_service.client: 🏃 View run fun-yak-563 at: http://localhost:5000/#/experiments/258775168737052725/runs/e40aee883c674f999c7e677f259d9bc0.\n",
      "2024/10/22 19:12:25 INFO mlflow.tracking._tracking_service.client: 🧪 View experiment at: http://localhost:5000/#/experiments/258775168737052725.\n",
      "2024/10/22 19:12:26 INFO mlflow.tracking._tracking_service.client: 🏃 View run bustling-conch-727 at: http://localhost:5000/#/experiments/258775168737052725/runs/9cab58fea07645149510b933663531c0.\n",
      "2024/10/22 19:12:26 INFO mlflow.tracking._tracking_service.client: 🧪 View experiment at: http://localhost:5000/#/experiments/258775168737052725.\n",
      "2024/10/22 19:12:26 INFO mlflow.tracking._tracking_service.client: 🏃 View run selective-bee-870 at: http://localhost:5000/#/experiments/258775168737052725/runs/7791c43e68844e1c8d987b2d3af9603f.\n",
      "2024/10/22 19:12:26 INFO mlflow.tracking._tracking_service.client: 🧪 View experiment at: http://localhost:5000/#/experiments/258775168737052725.\n",
      "2024/10/22 19:12:26 INFO mlflow.tracking._tracking_service.client: 🏃 View run popular-hen-164 at: http://localhost:5000/#/experiments/258775168737052725/runs/cdccc13553c849b182d051fff1984054.\n",
      "2024/10/22 19:12:26 INFO mlflow.tracking._tracking_service.client: 🧪 View experiment at: http://localhost:5000/#/experiments/258775168737052725.\n"
     ]
    }
   ],
   "source": [
    "for i in range(10):\n",
    "    with mlflow.start_run():\n",
    "        mlflow.log_metric('Test', i)\n",
    "        mlflow.log_metric('Jmario', i+1)"
   ]
  }
 ],
 "metadata": {
  "kernelspec": {
   "display_name": "Python 3",
   "language": "python",
   "name": "python3"
  },
  "language_info": {
   "codemirror_mode": {
    "name": "ipython",
    "version": 3
   },
   "file_extension": ".py",
   "mimetype": "text/x-python",
   "name": "python",
   "nbconvert_exporter": "python",
   "pygments_lexer": "ipython3",
   "version": "3.10.15"
  }
 },
 "nbformat": 4,
 "nbformat_minor": 2
}
